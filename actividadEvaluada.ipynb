{
 "cells": [
  {
   "cell_type": "markdown",
   "metadata": {},
   "source": [
    "# Importación de librerías"
   ]
  },
  {
   "cell_type": "code",
   "execution_count": 10,
   "metadata": {},
   "outputs": [],
   "source": [
    "import pandas as pd\n",
    "import seaborn as sns\n",
    "import matplotlib.pyplot as plt\n",
    "sns.set_theme(style=\"white\")"
   ]
  },
  {
   "cell_type": "markdown",
   "metadata": {},
   "source": [
    "# Creación de Clusters"
   ]
  },
  {
   "cell_type": "code",
   "execution_count": 14,
   "metadata": {},
   "outputs": [],
   "source": [
    "from sklearn.cluster import KMeans\n",
    "from kneed import KneeLocator"
   ]
  },
  {
   "cell_type": "markdown",
   "metadata": {},
   "source": [
    "# Importación de dataset"
   ]
  },
  {
   "cell_type": "markdown",
   "metadata": {},
   "source": [
    "Datos obtenidos de:\n",
    "\n",
    "*The Ulabox Online Supermarket Dataset 2017, accessed from https://www.github.com/ulabox/datasets*"
   ]
  },
  {
   "cell_type": "code",
   "execution_count": null,
   "metadata": {},
   "outputs": [
    {
     "data": {
      "text/html": [
       "<div>\n",
       "<style scoped>\n",
       "    .dataframe tbody tr th:only-of-type {\n",
       "        vertical-align: middle;\n",
       "    }\n",
       "\n",
       "    .dataframe tbody tr th {\n",
       "        vertical-align: top;\n",
       "    }\n",
       "\n",
       "    .dataframe thead th {\n",
       "        text-align: right;\n",
       "    }\n",
       "</style>\n",
       "<table border=\"1\" class=\"dataframe\">\n",
       "  <thead>\n",
       "    <tr style=\"text-align: right;\">\n",
       "      <th></th>\n",
       "      <th>customer</th>\n",
       "      <th>order</th>\n",
       "      <th>total_items</th>\n",
       "      <th>discount%</th>\n",
       "      <th>weekday</th>\n",
       "      <th>hour</th>\n",
       "      <th>Food%</th>\n",
       "      <th>Fresh%</th>\n",
       "      <th>Drinks%</th>\n",
       "      <th>Home%</th>\n",
       "      <th>Beauty%</th>\n",
       "      <th>Health%</th>\n",
       "      <th>Baby%</th>\n",
       "      <th>Pets%</th>\n",
       "    </tr>\n",
       "  </thead>\n",
       "  <tbody>\n",
       "    <tr>\n",
       "      <th>count</th>\n",
       "      <td>30000.000000</td>\n",
       "      <td>30000.000000</td>\n",
       "      <td>30000.000000</td>\n",
       "      <td>30000.000000</td>\n",
       "      <td>30000.000000</td>\n",
       "      <td>30000.000000</td>\n",
       "      <td>30000.000000</td>\n",
       "      <td>30000.000000</td>\n",
       "      <td>30000.000000</td>\n",
       "      <td>30000.000000</td>\n",
       "      <td>30000.000000</td>\n",
       "      <td>30000.000000</td>\n",
       "      <td>30000.000000</td>\n",
       "      <td>30000.000000</td>\n",
       "    </tr>\n",
       "    <tr>\n",
       "      <th>mean</th>\n",
       "      <td>5012.483367</td>\n",
       "      <td>14999.500000</td>\n",
       "      <td>31.739933</td>\n",
       "      <td>8.455495</td>\n",
       "      <td>3.642367</td>\n",
       "      <td>15.034667</td>\n",
       "      <td>23.560406</td>\n",
       "      <td>20.227279</td>\n",
       "      <td>23.349235</td>\n",
       "      <td>13.539575</td>\n",
       "      <td>5.892949</td>\n",
       "      <td>1.132959</td>\n",
       "      <td>11.096145</td>\n",
       "      <td>1.043087</td>\n",
       "    </tr>\n",
       "    <tr>\n",
       "      <th>std</th>\n",
       "      <td>2888.646245</td>\n",
       "      <td>8660.398374</td>\n",
       "      <td>20.576579</td>\n",
       "      <td>14.199350</td>\n",
       "      <td>2.122031</td>\n",
       "      <td>5.717052</td>\n",
       "      <td>21.719824</td>\n",
       "      <td>23.661767</td>\n",
       "      <td>22.523335</td>\n",
       "      <td>17.850282</td>\n",
       "      <td>13.996518</td>\n",
       "      <td>5.307620</td>\n",
       "      <td>24.740364</td>\n",
       "      <td>6.195390</td>\n",
       "    </tr>\n",
       "    <tr>\n",
       "      <th>min</th>\n",
       "      <td>0.000000</td>\n",
       "      <td>0.000000</td>\n",
       "      <td>1.000000</td>\n",
       "      <td>-65.150000</td>\n",
       "      <td>1.000000</td>\n",
       "      <td>0.000000</td>\n",
       "      <td>0.000000</td>\n",
       "      <td>0.000000</td>\n",
       "      <td>0.000000</td>\n",
       "      <td>0.000000</td>\n",
       "      <td>0.000000</td>\n",
       "      <td>0.000000</td>\n",
       "      <td>0.000000</td>\n",
       "      <td>0.000000</td>\n",
       "    </tr>\n",
       "    <tr>\n",
       "      <th>25%</th>\n",
       "      <td>2541.750000</td>\n",
       "      <td>7499.750000</td>\n",
       "      <td>18.000000</td>\n",
       "      <td>1.177500</td>\n",
       "      <td>2.000000</td>\n",
       "      <td>11.000000</td>\n",
       "      <td>7.220000</td>\n",
       "      <td>0.000000</td>\n",
       "      <td>6.710000</td>\n",
       "      <td>0.000000</td>\n",
       "      <td>0.000000</td>\n",
       "      <td>0.000000</td>\n",
       "      <td>0.000000</td>\n",
       "      <td>0.000000</td>\n",
       "    </tr>\n",
       "    <tr>\n",
       "      <th>50%</th>\n",
       "      <td>5043.000000</td>\n",
       "      <td>14999.500000</td>\n",
       "      <td>29.000000</td>\n",
       "      <td>4.160000</td>\n",
       "      <td>3.000000</td>\n",
       "      <td>15.000000</td>\n",
       "      <td>19.650000</td>\n",
       "      <td>10.930000</td>\n",
       "      <td>17.890000</td>\n",
       "      <td>7.210000</td>\n",
       "      <td>0.000000</td>\n",
       "      <td>0.000000</td>\n",
       "      <td>0.000000</td>\n",
       "      <td>0.000000</td>\n",
       "    </tr>\n",
       "    <tr>\n",
       "      <th>75%</th>\n",
       "      <td>7483.000000</td>\n",
       "      <td>22499.250000</td>\n",
       "      <td>41.000000</td>\n",
       "      <td>9.990000</td>\n",
       "      <td>5.000000</td>\n",
       "      <td>20.000000</td>\n",
       "      <td>33.260000</td>\n",
       "      <td>35.790000</td>\n",
       "      <td>33.162500</td>\n",
       "      <td>20.002500</td>\n",
       "      <td>6.512500</td>\n",
       "      <td>0.000000</td>\n",
       "      <td>4.172500</td>\n",
       "      <td>0.000000</td>\n",
       "    </tr>\n",
       "    <tr>\n",
       "      <th>max</th>\n",
       "      <td>10238.000000</td>\n",
       "      <td>29999.000000</td>\n",
       "      <td>298.000000</td>\n",
       "      <td>100.000000</td>\n",
       "      <td>7.000000</td>\n",
       "      <td>23.000000</td>\n",
       "      <td>100.000000</td>\n",
       "      <td>100.000000</td>\n",
       "      <td>100.000000</td>\n",
       "      <td>100.000000</td>\n",
       "      <td>100.000000</td>\n",
       "      <td>100.000000</td>\n",
       "      <td>100.000000</td>\n",
       "      <td>100.000000</td>\n",
       "    </tr>\n",
       "  </tbody>\n",
       "</table>\n",
       "</div>"
      ],
      "text/plain": [
       "           customer         order   total_items     discount%       weekday  \\\n",
       "count  30000.000000  30000.000000  30000.000000  30000.000000  30000.000000   \n",
       "mean    5012.483367  14999.500000     31.739933      8.455495      3.642367   \n",
       "std     2888.646245   8660.398374     20.576579     14.199350      2.122031   \n",
       "min        0.000000      0.000000      1.000000    -65.150000      1.000000   \n",
       "25%     2541.750000   7499.750000     18.000000      1.177500      2.000000   \n",
       "50%     5043.000000  14999.500000     29.000000      4.160000      3.000000   \n",
       "75%     7483.000000  22499.250000     41.000000      9.990000      5.000000   \n",
       "max    10238.000000  29999.000000    298.000000    100.000000      7.000000   \n",
       "\n",
       "               hour         Food%        Fresh%       Drinks%         Home%  \\\n",
       "count  30000.000000  30000.000000  30000.000000  30000.000000  30000.000000   \n",
       "mean      15.034667     23.560406     20.227279     23.349235     13.539575   \n",
       "std        5.717052     21.719824     23.661767     22.523335     17.850282   \n",
       "min        0.000000      0.000000      0.000000      0.000000      0.000000   \n",
       "25%       11.000000      7.220000      0.000000      6.710000      0.000000   \n",
       "50%       15.000000     19.650000     10.930000     17.890000      7.210000   \n",
       "75%       20.000000     33.260000     35.790000     33.162500     20.002500   \n",
       "max       23.000000    100.000000    100.000000    100.000000    100.000000   \n",
       "\n",
       "            Beauty%       Health%         Baby%         Pets%  \n",
       "count  30000.000000  30000.000000  30000.000000  30000.000000  \n",
       "mean       5.892949      1.132959     11.096145      1.043087  \n",
       "std       13.996518      5.307620     24.740364      6.195390  \n",
       "min        0.000000      0.000000      0.000000      0.000000  \n",
       "25%        0.000000      0.000000      0.000000      0.000000  \n",
       "50%        0.000000      0.000000      0.000000      0.000000  \n",
       "75%        6.512500      0.000000      4.172500      0.000000  \n",
       "max      100.000000    100.000000    100.000000    100.000000  "
      ]
     },
     "execution_count": 6,
     "metadata": {},
     "output_type": "execute_result"
    }
   ],
   "source": [
    "df = pd.read_csv(\"datasets/ulabox_orders_with_categories_partials_2017.csv\")\n",
    "df.describe()"
   ]
  },
  {
   "cell_type": "markdown",
   "metadata": {},
   "source": [
    "# Preguntas"
   ]
  },
  {
   "cell_type": "markdown",
   "metadata": {},
   "source": [
    "### **Pregunta1:** _Relación total_items y discount%_"
   ]
  },
  {
   "cell_type": "markdown",
   "metadata": {},
   "source": [
    "> **Hipotesis:**\n",
    "A mayor número de productos seleccionados en una compra, mayor será el porcentaje de descuento aplicado al total de la compra.\n",
    "\n",
    "Para saber si existe o no existe una relación entre ambas variables, se empezará con un análisis general de sus comportamientos, para esto se realizará un **Diagrama de dispersión** donde:\n",
    "- el **_eje x_** represente el **_número total de productos_**\n",
    "- el **_eje y_** represente el **_porcentaje de descuento_** aplicado a la compra."
   ]
  },
  {
   "cell_type": "code",
   "execution_count": 19,
   "metadata": {},
   "outputs": [
    {
     "data": {
      "text/plain": [
       "<AxesSubplot:xlabel='total_items', ylabel='discount%'>"
      ]
     },
     "execution_count": 19,
     "metadata": {},
     "output_type": "execute_result"
    },
    {
     "data": {
      "image/png": "[encoded data removed]",
      "text/plain": [
       "<Figure size 432x288 with 1 Axes>"
      ]
     },
     "metadata": {},
     "output_type": "display_data"
    }
   ],
   "source": [
    "sns.scatterplot(data=df, x=\"total_items\", y=\"discount%\")"
   ]
  },
  {
   "cell_type": "markdown",
   "metadata": {},
   "source": [
    "No se aprecia que la hipotesis se cumpla, pues existe una **gran amplitud en los rangos** de descuento e incluso en los casos con mayor número de items _(a partir de 200)_ los descuentos son pequeños.\n",
    "\n",
    "Para indagar más y dar nuestra hipotesis por equivocada, realizaremos un **Mapa de calor** que nos muestre la correlación existente entre estas 2 variables, **de ser menor a 0.5** podemos concluir que no tienen relación."
   ]
  },
  {
   "cell_type": "code",
   "execution_count": 18,
   "metadata": {},
   "outputs": [
    {
     "data": {
      "text/plain": [
       "<AxesSubplot:>"
      ]
     },
     "execution_count": 18,
     "metadata": {},
     "output_type": "execute_result"
    },
    {
     "data": {
      "image/png": "[encoded data removed]",
      "text/plain": [
       "<Figure size 432x288 with 2 Axes>"
      ]
     },
     "metadata": {},
     "output_type": "display_data"
    }
   ],
   "source": [
    "test1 = df.iloc[:,[2,3]]\n",
    "sns.heatmap(test1.corr(), annot=True)"
   ]
  },
  {
   "cell_type": "markdown",
   "metadata": {},
   "source": [
    "Como es evidente, al tener una **correlación menor a 0.1**, se puede concluir que no existe una relación directa entre el número de productos comprados y el descuento que se aplica en la compra y que por ende:\n",
    "\n",
    "**es incorrecto decir que una gran compra te asegura un gran descuento.**"
   ]
  }
 ],
 "metadata": {
  "interpreter": {
   "hash": "916dbcbb3f70747c44a77c7bcd40155683ae19c65e1c03b4aa3499c5328201f1"
  },
  "kernelspec": {
   "display_name": "Python 3.8.10 64-bit",
   "language": "python",
   "name": "python3"
  },
  "language_info": {
   "codemirror_mode": {
    "name": "ipython",
    "version": 3
   },
   "file_extension": ".py",
   "mimetype": "text/x-python",
   "name": "python",
   "nbconvert_exporter": "python",
   "pygments_lexer": "ipython3",
   "version": "3.8.10"
  },
  "orig_nbformat": 4
 },
 "nbformat": 4,
 "nbformat_minor": 2
}
